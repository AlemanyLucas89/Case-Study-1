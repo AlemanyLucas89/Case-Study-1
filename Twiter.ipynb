{
 "cells": [
  {
   "cell_type": "code",
   "execution_count": null,
   "metadata": {},
   "outputs": [],
   "source": [
    "#Description: The purpose of this report is to build a sentiment anlaysis for three specific stocks, SPY, JNJ & TSLA"
   ]
  },
  {
   "cell_type": "code",
   "execution_count": 1,
   "metadata": {},
   "outputs": [],
   "source": [
    "import os\r\n",
    "import requests\r\n",
    "import pandas as pd\r\n",
    "from dotenv import load_dotenv\r\n",
    "import json\r\n",
    "import numpy as np\r\n",
    "import re\r\n",
    "from textblob import TextBlob\r\n",
    "import textblob\r\n",
    "import tweepy\r\n",
    "import sys\r\n",
    "import matplotlib.pyplot as plt\r\n"
   ]
  },
  {
   "cell_type": "code",
   "execution_count": 2,
   "metadata": {},
   "outputs": [
    {
     "data": {
      "text/plain": "True"
     },
     "execution_count": 2,
     "metadata": {},
     "output_type": "execute_result"
    }
   ],
   "source": [
    "load_dotenv()"
   ]
  },
  {
   "cell_type": "code",
   "execution_count": 3,
   "metadata": {},
   "outputs": [],
   "source": [
    "consumer_key = os.getenv(\"consumer_key\")\r\n",
    "consumer_secret = os.getenv(\"consumer_secret\")\r\n",
    "Access_Token = os.getenv(\"Access_Token\")\r\n",
    "Access_Token_Secret = os.getenv(\"Access_Token_Secret\")"
   ]
  },
  {
   "cell_type": "code",
   "execution_count": 4,
   "metadata": {},
   "outputs": [],
   "source": [
    "auth_handler = tweepy.OAuthHandler(consumer_key, consumer_secret)\r\n",
    "auth_handler.set_access_token(Access_Token, Access_Token_Secret)\r\n",
    "api = tweepy.API(auth_handler, wait_on_rate_limit=True)\r\n"
   ]
  },
  {
   "cell_type": "code",
   "execution_count": 5,
   "metadata": {},
   "outputs": [],
   "source": [
    "tsla_serch_term = '#TSLA -filter:retweets'"
   ]
  },
  {
   "cell_type": "code",
   "execution_count": 6,
   "metadata": {},
   "outputs": [],
   "source": [
    "tweet_amount = 200\r\n"
   ]
  },
  {
   "cell_type": "code",
   "execution_count": 10,
   "metadata": {},
   "outputs": [],
   "source": [
    "tsla_tweets = tweepy.Cursor(api.search, q=tsla_serch_term, lang='en', since= '2018-01-01', tweet_mode= 'extended').items(tweet_amount)\r\n"
   ]
  },
  {
   "cell_type": "code",
   "execution_count": 16,
   "metadata": {},
   "outputs": [
    {
     "data": {
      "text/plain": "<tweepy.cursor.ItemIterator at 0x261369bd550>"
     },
     "execution_count": 16,
     "metadata": {},
     "output_type": "execute_result"
    }
   ],
   "source": [
    "tsla_all_tweets = [tweet.full_text for tweet in tsla_tweets]\r\n"
   ]
  },
  {
   "cell_type": "code",
   "execution_count": 9,
   "metadata": {},
   "outputs": [],
   "source": [
    "#this Data Frame is used to create the set needed to\r\n",
    "tsla_tweets_df = pd.DataFrame(tsla_all_tweets, columns=['Tweets'])\r\n"
   ]
  },
  {
   "cell_type": "code",
   "execution_count": null,
   "metadata": {},
   "outputs": [],
   "source": [
    "#this formula is used to clean up the tweets; S+ means “a string of non-whitespace characters\"\r\n",
    "\r\n",
    "for _, row in tsla_tweets_df.iterrows():\r\n",
    "    row['Tweets'] = re.sub('http\\S+', '', row['Tweets'])\r\n",
    "    row['Tweets'] = re.sub('#\\S+', '', row['Tweets'])\r\n",
    "    row['Tweets'] = re.sub('@\\S+', '', row['Tweets'])\r\n",
    "    row['Tweets'] = re.sub('\\\\n', '', row['Tweets'])\r\n",
    "\r\n"
   ]
  },
  {
   "cell_type": "code",
   "execution_count": null,
   "metadata": {},
   "outputs": [],
   "source": [
    "tsla_tweets_df['Polarity'] = tsla_tweets_df['Tweets'].map(lambda tweet: textblob.TextBlob(tweet).sentiment.polarity)\r\n"
   ]
  },
  {
   "cell_type": "code",
   "execution_count": null,
   "metadata": {},
   "outputs": [],
   "source": [
    "tsla_tweets_df['Result'] = tsla_tweets_df['Polarity'].map(lambda pol: '+' if pol > 0 else '-')"
   ]
  },
  {
   "cell_type": "code",
   "execution_count": null,
   "metadata": {},
   "outputs": [],
   "source": [
    "positive = tsla_tweets_df[tsla_tweets_df.Result == '+'].count()['Tweets']\r\n",
    "negative = tsla_tweets_df[tsla_tweets_df.Result == '-'].count()['Tweets']"
   ]
  },
  {
   "cell_type": "code",
   "execution_count": null,
   "metadata": {},
   "outputs": [],
   "source": [
    "plt.bar([0,1], [positive, negative])\r\n",
    "\r\n",
    "plt.show()\r\n"
   ]
  },
  {
   "cell_type": "code",
   "execution_count": null,
   "metadata": {},
   "outputs": [],
   "source": [
    "jnj_serch_term = '#JNJ -filter:retweets'"
   ]
  },
  {
   "cell_type": "code",
   "execution_count": null,
   "metadata": {},
   "outputs": [],
   "source": [
    "jnj_tweets = tweepy.Cursor(api.search, q=jnj_serch_term, lang='en', since= '2018-01-01', tweet_mode= 'extended').items(tweet_amount)"
   ]
  },
  {
   "cell_type": "code",
   "execution_count": null,
   "metadata": {},
   "outputs": [],
   "source": [
    "jnj_all_tweets = [tweet.full_text for tweet in jnj_tweets]\r\n"
   ]
  },
  {
   "cell_type": "code",
   "execution_count": null,
   "metadata": {},
   "outputs": [],
   "source": [
    "jnj_tweets_df = pd.DataFrame(jnj_all_tweets, columns=['Tweets'])"
   ]
  },
  {
   "cell_type": "code",
   "execution_count": null,
   "metadata": {},
   "outputs": [],
   "source": [
    "for _, row in jnj_tweets_df.iterrows():\r\n",
    "    row['Tweets'] = re.sub('http\\S+', '', row['Tweets'])\r\n",
    "    row['Tweets'] = re.sub('#\\S+', '', row['Tweets'])\r\n",
    "    row['Tweets'] = re.sub('@\\S+', '', row['Tweets'])\r\n",
    "    row['Tweets'] = re.sub('\\\\n', '', row['Tweets'])"
   ]
  },
  {
   "cell_type": "code",
   "execution_count": null,
   "metadata": {},
   "outputs": [],
   "source": [
    "jnj_tweets_df['Polarity'] = jnj_tweets_df['Tweets'].map(lambda tweet: textblob.TextBlob(tweet).sentiment.polarity)"
   ]
  },
  {
   "cell_type": "code",
   "execution_count": null,
   "metadata": {},
   "outputs": [],
   "source": [
    "jnj_tweets_df['Result'] = jnj_tweets_df['Polarity'].map(lambda pol: '+' if pol > 0 else '-')"
   ]
  },
  {
   "cell_type": "code",
   "execution_count": null,
   "metadata": {},
   "outputs": [],
   "source": [
    "positive = jnj_tweets_df[jnj_tweets_df.Result == '+'].count()['Tweets']\r\n",
    "negative = jnj_tweets_df[jnj_tweets_df.Result == '-'].count()['Tweets']\r\n",
    "plt.bar([0,1], [positive, negative])\r\n",
    "\r\n",
    "plt.show()\r\n"
   ]
  },
  {
   "cell_type": "code",
   "execution_count": null,
   "metadata": {},
   "outputs": [],
   "source": [
    "spy_serch_term = '#SPY -filter:retweets'"
   ]
  },
  {
   "cell_type": "code",
   "execution_count": null,
   "metadata": {},
   "outputs": [],
   "source": [
    "spy_tweets = tweepy.Cursor(api.search, q=spy_serch_term, lang='en', since= '2018-01-01', tweet_mode= 'extended').items(tweet_amount)"
   ]
  },
  {
   "cell_type": "code",
   "execution_count": null,
   "metadata": {},
   "outputs": [],
   "source": [
    "spy_all_tweets = [tweet.full_text for tweet in spy_tweets]"
   ]
  },
  {
   "cell_type": "code",
   "execution_count": null,
   "metadata": {},
   "outputs": [],
   "source": [
    "spy_tweets_df = pd.DataFrame(spy_all_tweets, columns=['Tweets'])"
   ]
  },
  {
   "cell_type": "code",
   "execution_count": null,
   "metadata": {},
   "outputs": [],
   "source": [
    "for _, row in spy_tweets_df.iterrows():\r\n",
    "    row['Tweets'] = re.sub('http\\S+', '', row['Tweets'])\r\n",
    "    row['Tweets'] = re.sub('#\\S+', '', row['Tweets'])\r\n",
    "    row['Tweets'] = re.sub('@\\S+', '', row['Tweets'])\r\n",
    "    row['Tweets'] = re.sub('\\\\n', '', row['Tweets'])"
   ]
  },
  {
   "cell_type": "code",
   "execution_count": null,
   "metadata": {},
   "outputs": [],
   "source": [
    "spy_tweets_df['Polarity'] = spy_tweets_df['Tweets'].map(lambda tweet: textblob.TextBlob(tweet).sentiment.polarity)"
   ]
  },
  {
   "cell_type": "code",
   "execution_count": null,
   "metadata": {},
   "outputs": [],
   "source": [
    "spy_tweets_df['Result'] = spy_tweets_df['Polarity'].map(lambda pol: '+' if pol > 0 else '-')"
   ]
  },
  {
   "cell_type": "code",
   "execution_count": null,
   "metadata": {},
   "outputs": [],
   "source": [
    "positive = spy_tweets_df[spy_tweets_df.Result == '+'].count()['Tweets']\r\n",
    "negative = spy_tweets_df[spy_tweets_df.Result == '-'].count()['Tweets']\r\n",
    "plt.bar([0,1], [positive, negative])\r\n",
    "\r\n",
    "plt.show()"
   ]
  }
 ],
 "metadata": {
  "kernelspec": {
   "display_name": "Python 3.8.5 64-bit ('twitter': conda)",
   "name": "python385jvsc74a57bd0e3e3ece91a8922fbcbb3687e54769dd48190c3e23578540fa7907073d287e66c"
  },
  "language_info": {
   "codemirror_mode": {
    "name": "ipython",
    "version": 3
   },
   "file_extension": ".py",
   "mimetype": "text/x-python",
   "name": "python",
   "nbconvert_exporter": "python",
   "pygments_lexer": "ipython3",
   "version": "3.8.5"
  },
  "metadata": {
   "interpreter": {
    "hash": "580192abb9759f6b48eb574121bdad9b5763e9c2e87bb769fbfec15a96a21892"
   }
  },
  "orig_nbformat": 2
 },
 "nbformat": 4,
 "nbformat_minor": 2
}