{
 "cells": [
  {
   "cell_type": "code",
   "execution_count": 59,
   "metadata": {},
   "outputs": [],
   "source": [
    "#Description: The purpose of this report is to build a sentiment anlaysis for three specific stocks, SPY, JNJ & TSLA"
   ]
  },
  {
   "cell_type": "code",
   "execution_count": 60,
   "metadata": {},
   "outputs": [],
   "source": [
    "import os\r\n",
    "import requests\r\n",
    "import pandas as pd\r\n",
    "from dotenv import load_dotenv\r\n",
    "import json\r\n",
    "import numpy as np\r\n",
    "import re\r\n",
    "from textblob import TextBlob\r\n",
    "import textblob\r\n",
    "import tweepy\r\n",
    "import sys\r\n",
    "import matplotlib.pyplot as plt\r\n"
   ]
  },
  {
   "cell_type": "code",
   "execution_count": 61,
   "metadata": {},
   "outputs": [
    {
     "data": {
      "text/plain": "True"
     },
     "execution_count": 61,
     "metadata": {},
     "output_type": "execute_result"
    }
   ],
   "source": [
    "load_dotenv()"
   ]
  },
  {
   "cell_type": "code",
   "execution_count": 62,
   "metadata": {},
   "outputs": [],
   "source": [
    "consumer_key = os.getenv(\"consumer_key\")\r\n",
    "consumer_secret = os.getenv(\"consumer_secret\")\r\n",
    "Access_Token = os.getenv(\"Access_Token\")\r\n",
    "Access_Token_Secret = os.getenv(\"Access_Token_Secret\")"
   ]
  },
  {
   "cell_type": "markdown",
   "metadata": {},
   "source": [
    "TSLA"
   ]
  },
  {
   "cell_type": "code",
   "execution_count": 63,
   "metadata": {},
   "outputs": [],
   "source": [
    "auth_handler = tweepy.OAuthHandler(consumer_key, consumer_secret)\r\n",
    "auth_handler.set_access_token(Access_Token, Access_Token_Secret)\r\n",
    "api = tweepy.API(auth_handler, wait_on_rate_limit=True)\r\n"
   ]
  },
  {
   "cell_type": "code",
   "execution_count": 64,
   "metadata": {},
   "outputs": [],
   "source": [
    "tsla_serch_term = '#TSLA -filter:retweets'"
   ]
  },
  {
   "cell_type": "code",
   "execution_count": 65,
   "metadata": {},
   "outputs": [],
   "source": [
    "tweet_amount = 200\r\n"
   ]
  },
  {
   "cell_type": "code",
   "execution_count": 66,
   "metadata": {},
   "outputs": [],
   "source": [
    "tsla_tweets = tweepy.Cursor(api.search, q=tsla_serch_term, lang='en', since= '2018-01-01', tweet_mode= 'extended').items(tweet_amount)\r\n"
   ]
  },
  {
   "cell_type": "code",
   "execution_count": 67,
   "metadata": {},
   "outputs": [],
   "source": [
    "tsla_all_tweets = [tweet.full_text for tweet in tsla_tweets]\r\n"
   ]
  },
  {
   "cell_type": "code",
   "execution_count": 68,
   "metadata": {},
   "outputs": [
    {
     "data": {
      "text/html": "<div>\n<style scoped>\n    .dataframe tbody tr th:only-of-type {\n        vertical-align: middle;\n    }\n\n    .dataframe tbody tr th {\n        vertical-align: top;\n    }\n\n    .dataframe thead th {\n        text-align: right;\n    }\n</style>\n<table border=\"1\" class=\"dataframe\">\n  <thead>\n    <tr style=\"text-align: right;\">\n      <th></th>\n      <th>Tweets</th>\n    </tr>\n  </thead>\n  <tbody>\n    <tr>\n      <th>0</th>\n      <td>$INR.AX $INR update. Still respecting the arc....</td>\n    </tr>\n    <tr>\n      <th>1</th>\n      <td>$TSLA working it's way into the top 10 most me...</td>\n    </tr>\n    <tr>\n      <th>2</th>\n      <td>i sold the tip now it’s time for round 2 #tsla...</td>\n    </tr>\n    <tr>\n      <th>3</th>\n      <td>@ray4tesla Difficult to tell from on the groun...</td>\n    </tr>\n    <tr>\n      <th>4</th>\n      <td>$TSLA seeing sustained chatter on 4chan over t...</td>\n    </tr>\n    <tr>\n      <th>...</th>\n      <td>...</td>\n    </tr>\n    <tr>\n      <th>195</th>\n      <td>$TSLA seeing sustained chatter on twitch over ...</td>\n    </tr>\n    <tr>\n      <th>196</th>\n      <td>Once you have a company/business, you have to ...</td>\n    </tr>\n    <tr>\n      <th>197</th>\n      <td>#TSLA supports at 582.5- 573.6\\n levels above ...</td>\n    </tr>\n    <tr>\n      <th>198</th>\n      <td>#Tesla #Stock Forecast (#TSLA)- Broad sideways...</td>\n    </tr>\n    <tr>\n      <th>199</th>\n      <td>Tesla to Spend $1B on Raw Materials from Austr...</td>\n    </tr>\n  </tbody>\n</table>\n<p>200 rows × 1 columns</p>\n</div>",
      "text/plain": "                                                Tweets\n0    $INR.AX $INR update. Still respecting the arc....\n1    $TSLA working it's way into the top 10 most me...\n2    i sold the tip now it’s time for round 2 #tsla...\n3    @ray4tesla Difficult to tell from on the groun...\n4    $TSLA seeing sustained chatter on 4chan over t...\n..                                                 ...\n195  $TSLA seeing sustained chatter on twitch over ...\n196  Once you have a company/business, you have to ...\n197  #TSLA supports at 582.5- 573.6\\n levels above ...\n198  #Tesla #Stock Forecast (#TSLA)- Broad sideways...\n199  Tesla to Spend $1B on Raw Materials from Austr...\n\n[200 rows x 1 columns]"
     },
     "execution_count": 68,
     "metadata": {},
     "output_type": "execute_result"
    }
   ],
   "source": [
    "#this Data Frame is used to create the\r\n",
    "tsla_tweets_df = pd.DataFrame(tsla_all_tweets, columns=['Tweets'])\r\n"
   ]
  },
  {
   "cell_type": "code",
   "execution_count": 69,
   "metadata": {},
   "outputs": [],
   "source": [
    "#this formula is used to clean up the tweets; S+ means “a string of non-whitespace characters\"\r\n",
    "\r\n",
    "for _, row in tsla_tweets_df.iterrows():\r\n",
    "    row['Tweets'] = re.sub('http\\S+', '', row['Tweets'])\r\n",
    "    row['Tweets'] = re.sub('#\\S+', '', row['Tweets'])\r\n",
    "    row['Tweets'] = re.sub('@\\S+', '', row['Tweets'])\r\n",
    "    row['Tweets'] = re.sub('\\\\n', '', row['Tweets'])\r\n",
    "\r\n"
   ]
  },
  {
   "cell_type": "code",
   "execution_count": 70,
   "metadata": {},
   "outputs": [],
   "source": [
    "tsla_tweets_df['Polarity'] = tsla_tweets_df['Tweets'].map(lambda tweet: textblob.TextBlob(tweet).sentiment.polarity)\r\n"
   ]
  },
  {
   "cell_type": "code",
   "execution_count": 71,
   "metadata": {},
   "outputs": [],
   "source": [
    "tsla_tweets_df['Result'] = tsla_tweets_df['Polarity'].map(lambda pol: '+' if pol > 0 else '-')"
   ]
  },
  {
   "cell_type": "code",
   "execution_count": 73,
   "metadata": {},
   "outputs": [],
   "source": [
    "positive = tsla_tweets_df[tsla_tweets_df.Result == '+'].count()['Tweets']\r\n",
    "negative = tsla_tweets_df[tsla_tweets_df.Result == '-'].count()['Tweets']"
   ]
  },
  {
   "cell_type": "code",
   "execution_count": 74,
   "metadata": {},
   "outputs": [
    {
     "data": {
      "image/png": "[encoded data removed]",
      "text/plain": "<Figure size 432x288 with 1 Axes>"
     },
     "metadata": {
      "needs_background": "light"
     },
     "output_type": "display_data"
    }
   ],
   "source": [
    "plt.bar([0,1], [positive, negative])\r\n",
    "\r\n",
    "plt.show()\r\n"
   ]
  },
  {
   "cell_type": "code",
   "execution_count": null,
   "metadata": {},
   "outputs": [],
   "source": [
    "jnj_serch_term = '#JNJ -filter:retweets'"
   ]
  },
  {
   "cell_type": "code",
   "execution_count": null,
   "metadata": {},
   "outputs": [],
   "source": [
    "jnj_tweets = tweepy.Cursor(api.search, q=jnj_serch_term, lang='en', since= '2018-01-01', tweet_mode= 'extended').items(tweet_amount)"
   ]
  },
  {
   "cell_type": "code",
   "execution_count": null,
   "metadata": {},
   "outputs": [],
   "source": [
    "jnj_all_tweets = [tweet.full_text for tweet in jnj_tweets]\r\n"
   ]
  },
  {
   "cell_type": "code",
   "execution_count": null,
   "metadata": {},
   "outputs": [],
   "source": [
    "jnj_tweets_df = pd.DataFrame(jnj_all_tweets, columns=['Tweets'])"
   ]
  },
  {
   "cell_type": "code",
   "execution_count": null,
   "metadata": {},
   "outputs": [],
   "source": [
    "for _, row in jnj_tweets_df.iterrows():\r\n",
    "    row['Tweets'] = re.sub('http\\S+', '', row['Tweets'])\r\n",
    "    row['Tweets'] = re.sub('#\\S+', '', row['Tweets'])\r\n",
    "    row['Tweets'] = re.sub('@\\S+', '', row['Tweets'])\r\n",
    "    row['Tweets'] = re.sub('\\\\n', '', row['Tweets'])"
   ]
  },
  {
   "cell_type": "code",
   "execution_count": null,
   "metadata": {},
   "outputs": [],
   "source": [
    "jnj_tweets_df['Polarity'] = tsla_tweets_df['Tweets'].map(lambda tweet: textblob.TextBlob(tweet).sentiment.polarity)"
   ]
  },
  {
   "cell_type": "code",
   "execution_count": null,
   "metadata": {},
   "outputs": [],
   "source": [
    "tsla_tweets_df['Result'] = tsla_tweets_df['Polarity'].map(lambda pol: '+' if pol > 0 else '-')"
   ]
  },
  {
   "cell_type": "code",
   "execution_count": null,
   "metadata": {},
   "outputs": [],
   "source": [
    "positive = tsla_tweets_df[tsla_tweets_df.Result == '+'].count()['Tweets']\r\n",
    "negative = tsla_tweets_df[tsla_tweets_df.Result == '-'].count()['Tweets']"
   ]
  },
  {
   "cell_type": "code",
   "execution_count": null,
   "metadata": {},
   "outputs": [],
   "source": [
    "plt.bar([0,1], [positive, negative])\r\n",
    "\r\n",
    "plt.show()\r\n"
   ]
  },
  {
   "cell_type": "code",
   "execution_count": null,
   "metadata": {},
   "outputs": [],
   "source": [
    "jnj_serch_term = '#JNJ -filter:retweets'"
   ]
  },
  {
   "cell_type": "code",
   "execution_count": null,
   "metadata": {},
   "outputs": [],
   "source": [
    "jnj_tweets = tweepy.Cursor(api.search, q=jnj_serch_term, lang='en', since= '2018-01-01', tweet_mode= 'extended').items(tweet_amount)"
   ]
  },
  {
   "cell_type": "code",
   "execution_count": null,
   "metadata": {},
   "outputs": [],
   "source": [
    "jnj_all_tweets = [tweet.full_text for tweet in jnj_tweets]"
   ]
  },
  {
   "cell_type": "code",
   "execution_count": null,
   "metadata": {},
   "outputs": [],
   "source": [
    "jnj_tweets_df = pd.DataFrame(jnj_all_tweets, columns=['Tweets'])"
   ]
  },
  {
   "cell_type": "code",
   "execution_count": null,
   "metadata": {},
   "outputs": [],
   "source": [
    "for _, row in jnj_tweets_df.iterrows():\r\n",
    "    row['Tweets'] = re.sub('http\\S+', '', row['Tweets'])\r\n",
    "    row['Tweets'] = re.sub('#\\S+', '', row['Tweets'])\r\n",
    "    row['Tweets'] = re.sub('@\\S+', '', row['Tweets'])\r\n",
    "    row['Tweets'] = re.sub('\\\\n', '', row['Tweets'])"
   ]
  },
  {
   "cell_type": "code",
   "execution_count": null,
   "metadata": {},
   "outputs": [],
   "source": [
    "tsla_tweets_df['Polarity'] = tsla_tweets_df['Tweets'].map(lambda tweet: textblob.TextBlob(tweet).sentiment.polarity)"
   ]
  },
  {
   "cell_type": "code",
   "execution_count": null,
   "metadata": {},
   "outputs": [],
   "source": [
    "tsla_tweets_df['Result'] = tsla_tweets_df['Polarity'].map(lambda pol: '+' if pol > 0 else '-')"
   ]
  },
  {
   "cell_type": "code",
   "execution_count": null,
   "metadata": {},
   "outputs": [],
   "source": [
    "positive = tsla_tweets_df[tsla_tweets_df.Result == '+'].count()['Tweets']\r\n",
    "negative = tsla_tweets_df[tsla_tweets_df.Result == '-'].count()['Tweets']"
   ]
  },
  {
   "cell_type": "code",
   "execution_count": null,
   "metadata": {},
   "outputs": [],
   "source": [
    "plt.bar([0,1], [positive, negative])\r\n",
    "\r\n",
    "plt.show()\r\n"
   ]
  }
 ],
 "metadata": {
  "kernelspec": {
   "display_name": "Python 3.8.5 64-bit ('twitter': conda)",
   "name": "python385jvsc74a57bd0e3e3ece91a8922fbcbb3687e54769dd48190c3e23578540fa7907073d287e66c"
  },
  "language_info": {
   "codemirror_mode": {
    "name": "ipython",
    "version": 3
   },
   "file_extension": ".py",
   "mimetype": "text/x-python",
   "name": "python",
   "nbconvert_exporter": "python",
   "pygments_lexer": "ipython3",
   "version": "3.8.5"
  },
  "metadata": {
   "interpreter": {
    "hash": "580192abb9759f6b48eb574121bdad9b5763e9c2e87bb769fbfec15a96a21892"
   }
  },
  "orig_nbformat": 2
 },
 "nbformat": 4,
 "nbformat_minor": 2
}